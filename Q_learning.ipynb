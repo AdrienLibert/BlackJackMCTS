{
 "cells": [
  {
   "cell_type": "code",
   "execution_count": 3,
   "id": "941b5a47",
   "metadata": {},
   "outputs": [],
   "source": [
    "import nbimporter\n",
    "import numpy as np"
   ]
  },
  {
   "cell_type": "code",
   "execution_count": 5,
   "id": "cf465a54",
   "metadata": {},
   "outputs": [],
   "source": [
    "class QLearningAgent:\n",
    "    def __init__(self, nombre_etats, nombre_actions, learning_rate, discount_factor, epsilon, min_epsilon, epsilon_decay):\n",
    "        self.nombre_etats = nombre_etats\n",
    "        self.nombre_actions = nombre_actions\n",
    "        self.learning_rate = learning_rate\n",
    "        self.discount_factor = discount_factor\n",
    "        self.epsilon = epsilon\n",
    "        self.min_epsilon = min_epsilon\n",
    "        self.epsilon_decay = epsilon_decay\n",
    "        self.Q_table = np.zeros((nombre_etats, nombre_actions))\n",
    "\n",
    "    def choose_action(self, etat):\n",
    "        if np.random.rand() < self.epsilon:\n",
    "            return np.random.randint(self.nombre_actions)\n",
    "        else:\n",
    "            return np.argmax(self.Q_table[etat])\n",
    "\n",
    "    def update(self, etat, action, recompense, nouvel_etat):\n",
    "        meilleure_future_valeur_Q = np.max(self.Q_table[nouvel_etat])\n",
    "        ancienne_valeur_Q = self.Q_table[etat, action]\n",
    "        nouvelle_valeur_Q = (ancienne_valeur_Q + self.learning_rate *\n",
    "                         (recompense + self.discount_factor * meilleure_future_valeur_Q - ancienne_valeur_Q))\n",
    "        self.Q_table[etat, action] = nouvelle_valeur_Q\n",
    "\n",
    "\n",
    "\n",
    "    def update_epsilon(self):\n",
    "        self.epsilon = max(self.min_epsilon, self.epsilon * self.epsilon_decay)\n"
   ]
  },
  {
   "cell_type": "code",
   "execution_count": null,
   "id": "c6a0c871",
   "metadata": {},
   "outputs": [],
   "source": []
  },
  {
   "cell_type": "code",
   "execution_count": null,
   "id": "30a9afd6",
   "metadata": {},
   "outputs": [],
   "source": []
  }
 ],
 "metadata": {
  "kernelspec": {
   "display_name": "Python 3",
   "language": "python",
   "name": "python3"
  },
  "language_info": {
   "codemirror_mode": {
    "name": "ipython",
    "version": 3
   },
   "file_extension": ".py",
   "mimetype": "text/x-python",
   "name": "python",
   "nbconvert_exporter": "python",
   "pygments_lexer": "ipython3",
   "version": "3.6.13"
  }
 },
 "nbformat": 4,
 "nbformat_minor": 5
}
