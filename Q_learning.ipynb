{
 "cells": [
  {
   "cell_type": "code",
   "execution_count": 5,
   "id": "941b5a47",
   "metadata": {},
   "outputs": [],
   "source": [
    "import nbimporter\n",
    "from gym_env import BlackjackEnvironment\n",
    "import numpy as np\n"
   ]
  },
  {
   "cell_type": "code",
   "execution_count": 6,
   "id": "c26be2f7",
   "metadata": {},
   "outputs": [],
   "source": [
    "env = BlackjackEnvironment()"
   ]
  },
  {
   "cell_type": "code",
   "execution_count": 13,
   "id": "cf465a54",
   "metadata": {},
   "outputs": [],
   "source": [
    "class QLearningAgent:\n",
    "    def __init__(self, nombre_etats, nombre_actions, learning_rate, discount_factor, epsilon, min_epsilon, epsilon_decay):\n",
    "        self.nombre_etats = nombre_etats\n",
    "        self.nombre_actions = nombre_actions\n",
    "        self.learning_rate = learning_rate\n",
    "        self.discount_factor = discount_factor\n",
    "        self.epsilon = epsilon\n",
    "        self.min_epsilon = min_epsilon\n",
    "        self.epsilon_decay = epsilon_decay\n",
    "        self.Q_table = np.zeros((nombre_etats, nombre_actions))\n",
    "\n",
    "    def choose_action(self, etat):\n",
    "        if np.random.rand() < self.epsilon:\n",
    "            return np.random.randint(self.nombre_actions)\n",
    "        else:\n",
    "            return np.argmax(self.Q_table[etat])\n",
    "\n",
    "    def update(self, etat, action, recompense, nouvel_etat):\n",
    "        # Utiliser uniquement le total de la main du joueur comme état\n",
    "        etat_index = etat[0]\n",
    "        nouvel_etat_index = nouvel_etat[0]\n",
    "        meilleure_future_valeur_Q = np.max(self.Q_table[nouvel_etat_index])\n",
    "        ancienne_valeur_Q = self.Q_table[etat_index, action]\n",
    "        nouvelle_valeur_Q = (ancienne_valeur_Q + self.learning_rate *\n",
    "            (recompense + self.discount_factor * meilleure_future_valeur_Q - ancienne_valeur_Q))\n",
    "        self.Q_table[etat_index, action] = nouvelle_valeur_Q\n",
    "\n",
    "\n",
    "    def update_epsilon(self):\n",
    "        self.epsilon = max(self.min_epsilon, self.epsilon * self.epsilon_decay)\n"
   ]
  },
  {
   "cell_type": "code",
   "execution_count": 15,
   "id": "78e80c73",
   "metadata": {},
   "outputs": [],
   "source": [
    "# Paramètres pour l'agent Q-learning\n",
    "nombre_etats = 36  # Adaptez selon votre environnement\n",
    "nombre_actions = 2  # Stand ou Hit\n",
    "learning_rate = 0.1\n",
    "discount_factor = 0.99\n",
    "epsilon = 1.0\n",
    "min_epsilon = 0.01\n",
    "epsilon_decay = 0.995\n",
    "\n",
    "# Création de l'agent Q-learning\n",
    "agent = QLearningAgent(nombre_etats, nombre_actions, learning_rate, discount_factor, epsilon, min_epsilon, epsilon_decay)\n",
    "\n",
    "# Boucle d'apprentissage\n",
    "nombre_episodes = 10000\n",
    "for episode in range(nombre_episodes):\n",
    "    etat_initial = env.reset_environment()\n",
    "    etat = etat_initial\n",
    "\n",
    "    fini = False\n",
    "\n",
    "    while not fini:\n",
    "        action = agent.choose_action(etat)\n",
    "        resultat = env.step(action)\n",
    "        \n",
    "        nouvel_etat, recompense, fini, _, _ = resultat\n",
    "        agent.update(etat, action, recompense, nouvel_etat)\n",
    "        etat = nouvel_etat\n",
    "\n"
   ]
  },
  {
   "cell_type": "code",
   "execution_count": null,
   "id": "5d722d0a",
   "metadata": {},
   "outputs": [],
   "source": []
  }
 ],
 "metadata": {
  "kernelspec": {
   "display_name": "Python 3",
   "language": "python",
   "name": "python3"
  },
  "language_info": {
   "codemirror_mode": {
    "name": "ipython",
    "version": 3
   },
   "file_extension": ".py",
   "mimetype": "text/x-python",
   "name": "python",
   "nbconvert_exporter": "python",
   "pygments_lexer": "ipython3",
   "version": "3.6.13"
  }
 },
 "nbformat": 4,
 "nbformat_minor": 5
}
