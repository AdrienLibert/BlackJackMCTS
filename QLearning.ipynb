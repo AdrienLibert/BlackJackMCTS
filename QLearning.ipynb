{
 "cells": [
  {
   "cell_type": "code",
   "execution_count": 2,
   "id": "391f8784-cde5-4284-8def-3703a4a62004",
   "metadata": {},
   "outputs": [],
   "source": [
    "import gym\n",
    "import numpy as np\n",
    "from collections import defaultdict\n",
    "from tqdm import tqdm"
   ]
  },
  {
   "cell_type": "code",
   "execution_count": 6,
   "id": "152a6930",
   "metadata": {},
   "outputs": [],
   "source": [
    "\n",
    "class BlackjackAgent:\n",
    "    def __init__(\n",
    "        self,\n",
    "        learning_rate: float,\n",
    "        initial_epsilon: float,\n",
    "        epsilon_decay: float,\n",
    "        final_epsilon: float,\n",
    "        discount_factor: float = 0.95,\n",
    "    ):\n",
    "        self.q_values = defaultdict(lambda: np.zeros(2))\n",
    "        self.lr = learning_rate\n",
    "        self.discount_factor = discount_factor\n",
    "        self.epsilon = initial_epsilon\n",
    "        self.epsilon_decay = epsilon_decay\n",
    "        self.final_epsilon = final_epsilon\n",
    "\n",
    "    def get_action(self, obs) -> int:\n",
    "        state = obs[0]\n",
    "        if np.random.random() < self.epsilon:\n",
    "            return np.random.choice([0, 1])\n",
    "        else:\n",
    "            return int(np.argmax(self.q_values[state]))\n",
    "\n",
    "    def update(self, obs, action: int, reward: float, terminated: bool, next_obs):\n",
    "        state = obs[0]\n",
    "        next_state = next_obs[0]\n",
    "        future_q_value = (not terminated) * np.max(self.q_values[next_state])\n",
    "        temporal_difference = (\n",
    "            reward + self.discount_factor * future_q_value - self.q_values[state][action]\n",
    "        )\n",
    "        self.q_values[state][action] += self.lr * temporal_difference\n",
    "    def decay_epsilon(self):\n",
    "        self.epsilon = max(self.final_epsilon, self.epsilon - self.epsilon_decay)"
   ]
  }
 ],
 "metadata": {
  "kernelspec": {
   "display_name": "Python 3 (ipykernel)",
   "language": "python",
   "name": "python3"
  },
  "language_info": {
   "codemirror_mode": {
    "name": "ipython",
    "version": 3
   },
   "file_extension": ".py",
   "mimetype": "text/x-python",
   "name": "python",
   "nbconvert_exporter": "python",
   "pygments_lexer": "ipython3",
   "version": "3.9.18"
  }
 },
 "nbformat": 4,
 "nbformat_minor": 5
}
