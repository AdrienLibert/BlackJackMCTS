{
 "cells": [
  {
   "cell_type": "code",
   "execution_count": 1,
   "id": "f09e64ab",
   "metadata": {},
   "outputs": [],
   "source": [
    "import nbimporter\n",
    "from Strategy import apply_strategy\n",
    "from Generate_deck import generate_deck\n",
    "from Deal_hand import deal_hand"
   ]
  },
  {
   "cell_type": "code",
   "execution_count": 2,
   "id": "772ef699",
   "metadata": {},
   "outputs": [],
   "source": [
    "def play_game(player_hand, dealer_hand, deck):\n",
    "    #We need to install the logic of game\n",
    "    result = {\"win\" : \"dealer_hand\"}\n",
    "    return result\n"
   ]
  },
  {
   "cell_type": "code",
   "execution_count": 3,
   "id": "ce217aaf",
   "metadata": {},
   "outputs": [],
   "source": [
    "def simulate_games(number_of_games, strategy):\n",
    "    results = {'wins': 0, 'losses': 0, 'draws': 0}\n",
    "    for i in range(number_of_games):\n",
    "        deck = generate_deck()\n",
    "        player_hand = deal_hand(deck)\n",
    "        dealer_hand = deal_hand(deck)\n",
    "        player_hand = apply_strategy(player_hand, dealer_hand, strategy)\n",
    "        game_result = play_game(player_hand, dealer_hand, deck)\n",
    "        \n",
    "        if game_result['result'] == 'win':\n",
    "            results['wins'] += 1\n",
    "        elif game_result['result'] == 'loss':\n",
    "            results['losses'] += 1\n",
    "        else:\n",
    "            results['draws'] += 1\n",
    "    return results\n"
   ]
  },
  {
   "cell_type": "code",
   "execution_count": 4,
   "id": "ce5ed27d",
   "metadata": {},
   "outputs": [
    {
     "ename": "ValueError",
     "evalue": "Unknown strategy",
     "output_type": "error",
     "traceback": [
      "\u001b[1;31m---------------------------------------------------------------------------\u001b[0m",
      "\u001b[1;31mValueError\u001b[0m                                Traceback (most recent call last)",
      "\u001b[1;32m<ipython-input-4-552326484892>\u001b[0m in \u001b[0;36m<module>\u001b[1;34m\u001b[0m\n\u001b[0;32m      1\u001b[0m \u001b[0mstrategy\u001b[0m \u001b[1;33m=\u001b[0m \u001b[1;34m\"counting\"\u001b[0m\u001b[1;33m\u001b[0m\u001b[1;33m\u001b[0m\u001b[0m\n\u001b[0;32m      2\u001b[0m \u001b[0mnumber_of_games\u001b[0m \u001b[1;33m=\u001b[0m \u001b[1;36m1000\u001b[0m\u001b[1;33m\u001b[0m\u001b[1;33m\u001b[0m\u001b[0m\n\u001b[1;32m----> 3\u001b[1;33m \u001b[0msimulation_results\u001b[0m \u001b[1;33m=\u001b[0m \u001b[0msimulate_games\u001b[0m\u001b[1;33m(\u001b[0m\u001b[0mnumber_of_games\u001b[0m\u001b[1;33m,\u001b[0m \u001b[0mstrategy\u001b[0m\u001b[1;33m)\u001b[0m\u001b[1;33m\u001b[0m\u001b[1;33m\u001b[0m\u001b[0m\n\u001b[0m\u001b[0;32m      4\u001b[0m \u001b[1;33m\u001b[0m\u001b[0m\n\u001b[0;32m      5\u001b[0m \u001b[0mprint\u001b[0m\u001b[1;33m(\u001b[0m\u001b[1;34mf\"Strategy: {strategy}\"\u001b[0m\u001b[1;33m)\u001b[0m\u001b[1;33m\u001b[0m\u001b[1;33m\u001b[0m\u001b[0m\n",
      "\u001b[1;32m<ipython-input-3-58465ee687c8>\u001b[0m in \u001b[0;36msimulate_games\u001b[1;34m(number_of_games, strategy)\u001b[0m\n\u001b[0;32m      5\u001b[0m         \u001b[0mplayer_hand\u001b[0m \u001b[1;33m=\u001b[0m \u001b[0mdeal_hand\u001b[0m\u001b[1;33m(\u001b[0m\u001b[0mdeck\u001b[0m\u001b[1;33m)\u001b[0m\u001b[1;33m\u001b[0m\u001b[1;33m\u001b[0m\u001b[0m\n\u001b[0;32m      6\u001b[0m         \u001b[0mdealer_hand\u001b[0m \u001b[1;33m=\u001b[0m \u001b[0mdeal_hand\u001b[0m\u001b[1;33m(\u001b[0m\u001b[0mdeck\u001b[0m\u001b[1;33m)\u001b[0m\u001b[1;33m\u001b[0m\u001b[1;33m\u001b[0m\u001b[0m\n\u001b[1;32m----> 7\u001b[1;33m         \u001b[0mplayer_hand\u001b[0m \u001b[1;33m=\u001b[0m \u001b[0mapply_strategy\u001b[0m\u001b[1;33m(\u001b[0m\u001b[0mplayer_hand\u001b[0m\u001b[1;33m,\u001b[0m \u001b[0mdealer_hand\u001b[0m\u001b[1;33m,\u001b[0m \u001b[0mstrategy\u001b[0m\u001b[1;33m)\u001b[0m\u001b[1;33m\u001b[0m\u001b[1;33m\u001b[0m\u001b[0m\n\u001b[0m\u001b[0;32m      8\u001b[0m         \u001b[0mgame_result\u001b[0m \u001b[1;33m=\u001b[0m \u001b[0mplay_game\u001b[0m\u001b[1;33m(\u001b[0m\u001b[0mplayer_hand\u001b[0m\u001b[1;33m,\u001b[0m \u001b[0mdealer_hand\u001b[0m\u001b[1;33m,\u001b[0m \u001b[0mdeck\u001b[0m\u001b[1;33m)\u001b[0m\u001b[1;33m\u001b[0m\u001b[1;33m\u001b[0m\u001b[0m\n\u001b[0;32m      9\u001b[0m \u001b[1;33m\u001b[0m\u001b[0m\n",
      "\u001b[1;32m~\\OneDrive\\Bureau\\BlackJackMCTS\\Strategy.ipynb\u001b[0m in \u001b[0;36mapply_strategy\u001b[1;34m(strategy, player_hand, dealer_hand)\u001b[0m\n\u001b[0;32m      7\u001b[0m    \u001b[1;34m\"metadata\"\u001b[0m\u001b[1;33m:\u001b[0m \u001b[1;33m{\u001b[0m\u001b[1;33m}\u001b[0m\u001b[1;33m,\u001b[0m\u001b[1;33m\u001b[0m\u001b[1;33m\u001b[0m\u001b[0m\n\u001b[0;32m      8\u001b[0m    \u001b[1;34m\"outputs\"\u001b[0m\u001b[1;33m:\u001b[0m \u001b[1;33m[\u001b[0m\u001b[1;33m]\u001b[0m\u001b[1;33m,\u001b[0m\u001b[1;33m\u001b[0m\u001b[1;33m\u001b[0m\u001b[0m\n\u001b[1;32m----> 9\u001b[1;33m    \"source\": [\n\u001b[0m\u001b[0;32m     10\u001b[0m     \u001b[1;34m\"def apply_basic_strategy(player_hand, dealer_hand):\\n\"\u001b[0m\u001b[1;33m,\u001b[0m\u001b[1;33m\u001b[0m\u001b[1;33m\u001b[0m\u001b[0m\n\u001b[0;32m     11\u001b[0m     \u001b[1;34m\"    if sum(player_hand)>= 12 and sum(player_hand)<= 16 and dealer_hand[0] <= 6 and dealer_hand[0] >= 2:\\n\"\u001b[0m\u001b[1;33m,\u001b[0m\u001b[1;33m\u001b[0m\u001b[1;33m\u001b[0m\u001b[0m\n",
      "\u001b[1;31mValueError\u001b[0m: Unknown strategy"
     ]
    }
   ],
   "source": [
    "strategy = \"counting\"\n",
    "number_of_games = 1000\n",
    "simulation_results = simulate_games(number_of_games, strategy)\n",
    "\n",
    "print(f\"Strategy: {strategy}\")\n",
    "print(f\"Total Games: {number_of_games}\")\n",
    "print(f\"Wins: {simulation_results['wins']}\")\n",
    "print(f\"Losses: {simulation_results['losses']}\")\n",
    "print(f\"Draws: {simulation_results['draws']}\")\n"
   ]
  }
 ],
 "metadata": {
  "kernelspec": {
   "display_name": "Python 3",
   "language": "python",
   "name": "python3"
  },
  "language_info": {
   "codemirror_mode": {
    "name": "ipython",
    "version": 3
   },
   "file_extension": ".py",
   "mimetype": "text/x-python",
   "name": "python",
   "nbconvert_exporter": "python",
   "pygments_lexer": "ipython3",
   "version": "3.6.13"
  }
 },
 "nbformat": 4,
 "nbformat_minor": 5
}
