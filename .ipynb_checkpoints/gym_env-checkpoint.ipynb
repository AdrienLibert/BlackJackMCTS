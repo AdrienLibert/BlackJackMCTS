{
 "cells": [
  {
   "cell_type": "code",
   "execution_count": 2,
   "id": "0b8986df",
   "metadata": {},
   "outputs": [
    {
     "name": "stderr",
     "output_type": "stream",
     "text": [
      "C:\\Users\\adrie\\anaconda3\\envs\\IA\\lib\\site-packages\\gym\\core.py:27: UserWarning: \u001b[33mWARN: Gym minimally supports python 3.6 as the python foundation not longer supports the version, please update your version to 3.7+\u001b[0m\n",
      "  \"Gym minimally supports python 3.6 as the python foundation not longer supports the version, please update your version to 3.7+\"\n"
     ]
    }
   ],
   "source": [
    "import gym"
   ]
  },
  {
   "cell_type": "code",
   "execution_count": 3,
   "id": "fbfe0b46",
   "metadata": {},
   "outputs": [],
   "source": [
    "class BlackjackEnvironment:\n",
    "    def __init__(self):\n",
    "        self.env = gym.make(\"Blackjack-v1\", natural=True, sab=False)\n",
    "\n",
    "    def reset_environment(self):\n",
    "        return self.env.reset()\n",
    "\n",
    "    def step(self, action):\n",
    "        return self.env.step(action)\n",
    "\n",
    "    def render(self):\n",
    "        self.env.render()\n",
    "\n",
    "    def close(self):\n",
    "        self.env.close()"
   ]
  },
  {
   "cell_type": "code",
   "execution_count": 12,
   "id": "1c51f9e5",
   "metadata": {},
   "outputs": [
    {
     "data": {
      "text/plain": [
       "((17, 7, True), {})"
      ]
     },
     "execution_count": 12,
     "metadata": {},
     "output_type": "execute_result"
    }
   ],
   "source": [
    "env = BlackjackEnvironment()\n",
    "env.reset_environment()"
   ]
  },
  {
   "cell_type": "code",
   "execution_count": 13,
   "id": "847dea99",
   "metadata": {},
   "outputs": [
    {
     "data": {
      "text/plain": [
       "((17, 7, False), 0.0, False, False, {})"
      ]
     },
     "execution_count": 13,
     "metadata": {},
     "output_type": "execute_result"
    }
   ],
   "source": [
    "env.step(1)"
   ]
  },
  {
   "cell_type": "code",
   "execution_count": 14,
   "id": "e40032ff",
   "metadata": {},
   "outputs": [
    {
     "data": {
      "text/plain": [
       "((17, 7, False), 1.0, True, False, {})"
      ]
     },
     "execution_count": 14,
     "metadata": {},
     "output_type": "execute_result"
    }
   ],
   "source": [
    "env.step(0)"
   ]
  },
  {
   "cell_type": "code",
   "execution_count": null,
   "id": "33f7d37d",
   "metadata": {},
   "outputs": [],
   "source": []
  }
 ],
 "metadata": {
  "kernelspec": {
   "display_name": "Python 3",
   "language": "python",
   "name": "python3"
  },
  "language_info": {
   "codemirror_mode": {
    "name": "ipython",
    "version": 3
   },
   "file_extension": ".py",
   "mimetype": "text/x-python",
   "name": "python",
   "nbconvert_exporter": "python",
   "pygments_lexer": "ipython3",
   "version": "3.6.13"
  }
 },
 "nbformat": 4,
 "nbformat_minor": 5
}
