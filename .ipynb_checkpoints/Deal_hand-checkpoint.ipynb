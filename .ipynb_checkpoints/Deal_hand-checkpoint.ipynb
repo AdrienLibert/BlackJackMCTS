{
 "cells": [
  {
   "cell_type": "code",
   "execution_count": 4,
   "id": "0210e014",
   "metadata": {},
   "outputs": [],
   "source": [
    "#Function to the hand (player and dealer)\n",
    "def deal_hand(deck):\n",
    "    return [deck.pop(), deck.pop()] #Pop 2 cards for the first hand"
   ]
  }
 ],
 "metadata": {
  "kernelspec": {
   "display_name": "Python 3",
   "language": "python",
   "name": "python3"
  },
  "language_info": {
   "codemirror_mode": {
    "name": "ipython",
    "version": 3
   },
   "file_extension": ".py",
   "mimetype": "text/x-python",
   "name": "python",
   "nbconvert_exporter": "python",
   "pygments_lexer": "ipython3",
   "version": "3.6.13"
  }
 },
 "nbformat": 4,
 "nbformat_minor": 5
}
