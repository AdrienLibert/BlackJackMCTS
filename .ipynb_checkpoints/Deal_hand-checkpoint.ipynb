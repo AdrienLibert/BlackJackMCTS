{
 "cells": [
  {
   "cell_type": "code",
   "execution_count": 8,
   "id": "44f648d4",
   "metadata": {},
   "outputs": [],
   "source": [
    "import nbimporter\n",
    "from Generate_deck import generate_deck"
   ]
  },
  {
   "cell_type": "code",
   "execution_count": 9,
   "id": "0210e014",
   "metadata": {},
   "outputs": [],
   "source": [
    "#Function to the hand (player and dealer)\n",
    "def deal_hand():\n",
    "    deck = generate_deck()\n",
    "    return [deck.pop(), deck.pop()] #Pop 2 cards for the first hand\n"
   ]
  },
  {
   "cell_type": "code",
   "execution_count": 10,
   "id": "b520a5fd",
   "metadata": {},
   "outputs": [
    {
     "data": {
      "text/plain": [
       "[{'suit': 'Clubs', 'value': 'Q'}, {'suit': 'Clubs', 'value': 'J'}]"
      ]
     },
     "execution_count": 10,
     "metadata": {},
     "output_type": "execute_result"
    }
   ],
   "source": [
    "deal_hand()"
   ]
  }
 ],
 "metadata": {
  "kernelspec": {
   "display_name": "Python 3",
   "language": "python",
   "name": "python3"
  },
  "language_info": {
   "codemirror_mode": {
    "name": "ipython",
    "version": 3
   },
   "file_extension": ".py",
   "mimetype": "text/x-python",
   "name": "python",
   "nbconvert_exporter": "python",
   "pygments_lexer": "ipython3",
   "version": "3.6.13"
  }
 },
 "nbformat": 4,
 "nbformat_minor": 5
}
