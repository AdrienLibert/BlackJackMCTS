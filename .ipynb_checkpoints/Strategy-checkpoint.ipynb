{
 "cells": [
  {
   "cell_type": "code",
   "execution_count": 2,
   "id": "ebfe496f",
   "metadata": {},
   "outputs": [],
   "source": [
    "import nbimporter\n",
    "from Deal_hand import deal_hand"
   ]
  },
  {
   "cell_type": "code",
   "execution_count": null,
   "id": "96fe2b79",
   "metadata": {},
   "outputs": [],
   "source": [
    "def apply_basic_strategy(player_hand, dealer_hand):\n",
    "    if sum(player_hand) == 16 and dealer_hand[0] >= 7:\n",
    "        return \"hit\"\n",
    "    else:\n",
    "        return \"stand\""
   ]
  },
  {
   "cell_type": "code",
   "execution_count": null,
   "id": "660aff1b",
   "metadata": {},
   "outputs": [],
   "source": [
    "def apply_simple_strategy(player_hand):\n",
    "    return"
   ]
  },
  {
   "cell_type": "code",
   "execution_count": null,
   "id": "df831e39",
   "metadata": {},
   "outputs": [],
   "source": [
    "def apply_card_counting_strategy(player_hand, dealer_hand):\n",
    "    return"
   ]
  },
  {
   "cell_type": "code",
   "execution_count": 3,
   "id": "836f9ea9",
   "metadata": {},
   "outputs": [],
   "source": [
    "def apply_strategy(strategy):\n",
    "    player_hand = deal_hand()\n",
    "    dealer_hand = deal_hand()\n",
    "    if strategy == \"basic\":\n",
    "        return apply_basic_strategy(player_hand, dealer_hand)\n",
    "    elif strategy == \"simple\":\n",
    "        return apply_simple_strategy(player_hand)\n",
    "    elif strategy == \"counting\":\n",
    "        return apply_card_counting_strategy(player_hand, dealer_hand)\n",
    "    else:\n",
    "        raise ValueError(\"Unknown strategy\")"
   ]
  }
 ],
 "metadata": {
  "kernelspec": {
   "display_name": "Python 3",
   "language": "python",
   "name": "python3"
  },
  "language_info": {
   "codemirror_mode": {
    "name": "ipython",
    "version": 3
   },
   "file_extension": ".py",
   "mimetype": "text/x-python",
   "name": "python",
   "nbconvert_exporter": "python",
   "pygments_lexer": "ipython3",
   "version": "3.6.13"
  }
 },
 "nbformat": 4,
 "nbformat_minor": 5
}
