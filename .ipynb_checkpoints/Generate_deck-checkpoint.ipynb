{
 "cells": [
  {
   "cell_type": "code",
   "execution_count": 1,
   "id": "ff8b1c90",
   "metadata": {},
   "outputs": [],
   "source": [
    "import random"
   ]
  },
  {
   "cell_type": "code",
   "execution_count": 15,
   "id": "71c72551",
   "metadata": {},
   "outputs": [],
   "source": [
    "#Function to generate deck randomly\n",
    "def generate_deck():\n",
    "    suits = ['Hearts', 'Diamonds', 'Clubs', 'Spades']\n",
    "    values = ['2', '3', '4', '5', '6', '7', '8', '9', '10', 'J', 'Q', 'K', 'A']\n",
    "    deck = []\n",
    "    for suit in suits :\n",
    "        for value in values :\n",
    "            deck.append({'suit': suit, 'value': value})\n",
    "    random.shuffle(deck)\n",
    "    return deck"
   ]
  },
  {
   "cell_type": "code",
   "execution_count": 16,
   "id": "2a8812c9",
   "metadata": {},
   "outputs": [
    {
     "data": {
      "text/plain": [
       "[{'suit': 'Spades', 'value': 'A'},\n",
       " {'suit': 'Hearts', 'value': '2'},\n",
       " {'suit': 'Clubs', 'value': '9'},\n",
       " {'suit': 'Hearts', 'value': '9'},\n",
       " {'suit': 'Spades', 'value': '8'},\n",
       " {'suit': 'Diamonds', 'value': '10'},\n",
       " {'suit': 'Hearts', 'value': 'K'},\n",
       " {'suit': 'Hearts', 'value': '10'},\n",
       " {'suit': 'Spades', 'value': '2'},\n",
       " {'suit': 'Spades', 'value': 'J'},\n",
       " {'suit': 'Diamonds', 'value': '7'},\n",
       " {'suit': 'Spades', 'value': '5'},\n",
       " {'suit': 'Hearts', 'value': '6'},\n",
       " {'suit': 'Spades', 'value': 'K'},\n",
       " {'suit': 'Hearts', 'value': '7'},\n",
       " {'suit': 'Clubs', 'value': '3'},\n",
       " {'suit': 'Diamonds', 'value': 'J'},\n",
       " {'suit': 'Diamonds', 'value': '2'},\n",
       " {'suit': 'Clubs', 'value': '5'},\n",
       " {'suit': 'Diamonds', 'value': '9'},\n",
       " {'suit': 'Spades', 'value': '6'},\n",
       " {'suit': 'Hearts', 'value': '3'},\n",
       " {'suit': 'Hearts', 'value': '4'},\n",
       " {'suit': 'Spades', 'value': '3'},\n",
       " {'suit': 'Diamonds', 'value': 'Q'},\n",
       " {'suit': 'Clubs', 'value': '6'},\n",
       " {'suit': 'Spades', 'value': '4'},\n",
       " {'suit': 'Hearts', 'value': 'J'},\n",
       " {'suit': 'Hearts', 'value': '8'},\n",
       " {'suit': 'Clubs', 'value': '2'},\n",
       " {'suit': 'Diamonds', 'value': '3'},\n",
       " {'suit': 'Clubs', 'value': 'Q'},\n",
       " {'suit': 'Clubs', 'value': '7'},\n",
       " {'suit': 'Spades', 'value': '10'},\n",
       " {'suit': 'Diamonds', 'value': '6'},\n",
       " {'suit': 'Hearts', 'value': 'Q'},\n",
       " {'suit': 'Clubs', 'value': '10'},\n",
       " {'suit': 'Clubs', 'value': 'K'},\n",
       " {'suit': 'Clubs', 'value': 'A'},\n",
       " {'suit': 'Clubs', 'value': '4'},\n",
       " {'suit': 'Diamonds', 'value': '8'},\n",
       " {'suit': 'Diamonds', 'value': 'A'},\n",
       " {'suit': 'Spades', 'value': 'Q'},\n",
       " {'suit': 'Clubs', 'value': 'J'},\n",
       " {'suit': 'Hearts', 'value': 'A'},\n",
       " {'suit': 'Diamonds', 'value': '4'},\n",
       " {'suit': 'Spades', 'value': '9'},\n",
       " {'suit': 'Clubs', 'value': '8'},\n",
       " {'suit': 'Diamonds', 'value': '5'},\n",
       " {'suit': 'Spades', 'value': '7'},\n",
       " {'suit': 'Hearts', 'value': '5'},\n",
       " {'suit': 'Diamonds', 'value': 'K'}]"
      ]
     },
     "execution_count": 16,
     "metadata": {},
     "output_type": "execute_result"
    }
   ],
   "source": [
    "generate_deck()"
   ]
  }
 ],
 "metadata": {
  "kernelspec": {
   "display_name": "Python 3",
   "language": "python",
   "name": "python3"
  },
  "language_info": {
   "codemirror_mode": {
    "name": "ipython",
    "version": 3
   },
   "file_extension": ".py",
   "mimetype": "text/x-python",
   "name": "python",
   "nbconvert_exporter": "python",
   "pygments_lexer": "ipython3",
   "version": "3.6.13"
  }
 },
 "nbformat": 4,
 "nbformat_minor": 5
}
